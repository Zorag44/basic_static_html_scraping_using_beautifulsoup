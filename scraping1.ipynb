{
 "cells": [
  {
   "cell_type": "code",
   "execution_count": null,
   "id": "7267e98d",
   "metadata": {},
   "outputs": [],
   "source": [
    "from bs4 import BeautifulSoup as bs\n",
    "import requests\n",
    "import pandas as pd\n",
    "flipkarthtml=requests.get('https://www.flipkart.com/search?q=mobiles&otracker=search&otracker1=search&marketplace=FLIPKART&as-show=on&as=off').text\n",
    "soup=bs(flipkarthtml,'lxml')\n",
    "name=[]\n",
    "price=[]\n",
    "rating=[]\n",
    "filter1=input('enter rating:')\n",
    "mobiles=soup.find_all('div', class_='_1AtVbE col-12-12')\n",
    "for mobile in mobiles:\n",
    "    mobile_name=mobile.find('div', class_='_4rR01T')\n",
    "    mobile_namef=str(mobile_name)\n",
    "    mobile_namefinal=mobile_namef[21:-6]\n",
    "    mobile_price=mobile.find('div', class_='_30jeq3 _1_WHN1')\n",
    "    mobile_pricef=str(mobile_price)\n",
    "    mobile_pricefinal=mobile_pricef[29:-6]\n",
    "    mobile_rating=mobile.find('div',class_='_3LWZlK')\n",
    "    mobile_ratingf=str(mobile_rating)\n",
    "    mobile_ratingfinal=mobile_ratingf[21:-321]\n",
    "    if filter1<=mobile_ratingfinal:\n",
    "        \n",
    "        name.append(mobile_namefinal)\n",
    "        price.append(mobile_pricefinal)\n",
    "        rating.append(mobile_ratingfinal)\n",
    "for i in range(len(price)):\n",
    "    s='Rs.'\n",
    "    price[i]=price[i][1:]\n",
    "    s=s+price[i]\n",
    "    price[i]=s\n",
    "\n",
    "filec=pd.DataFrame({'mobile_name':name,'price':price,'rating':rating})\n",
    "filec.to_csv('mobile1.csv',index=False,encoding='utf-8')\n"
   ]
  },
  {
   "cell_type": "code",
   "execution_count": null,
   "id": "923dd01a",
   "metadata": {},
   "outputs": [],
   "source": [
    "string='<img class=\"_1wB99o\" src=\"data:image/svg+xml;base64,PHN2ZyB4bWxucz0iaHR0cDovL3d3dy53My5vcmcvMjAwMC9zdmciIHdpZHRoPSIxMyIgaGVpZ2h0PSIxMiI+PHBhdGggZmlsbD0iI0ZGRiIgZD0iTTYuNSA5LjQzOWwtMy42NzQgMi4yMy45NC00LjI2LTMuMjEtMi44ODMgN'\n",
    "print(len(string))"
   ]
  }
 ],
 "metadata": {
  "kernelspec": {
   "display_name": "Python 3",
   "language": "python",
   "name": "python3"
  },
  "language_info": {
   "codemirror_mode": {
    "name": "ipython",
    "version": 3
   },
   "file_extension": ".py",
   "mimetype": "text/x-python",
   "name": "python",
   "nbconvert_exporter": "python",
   "pygments_lexer": "ipython3",
   "version": "3.9.4"
  }
 },
 "nbformat": 4,
 "nbformat_minor": 5
}
